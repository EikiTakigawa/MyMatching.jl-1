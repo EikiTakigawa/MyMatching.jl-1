{
 "cells": [
  {
   "cell_type": "code",
   "execution_count": 2,
   "metadata": {
    "collapsed": false
   },
   "outputs": [
    {
     "data": {
      "text/plain": [
       "3-element Array{Array{Int64,1},1}:\n",
       " [1,2]  \n",
       " [1,4]  \n",
       " [3,1,2]"
      ]
     },
     "execution_count": 2,
     "metadata": {},
     "output_type": "execute_result"
    }
   ],
   "source": [
    "m_prefs=[\n",
    "[3,2,1],\n",
    "[2,3,1],\n",
    "[1,3,2],\n",
    "[2,1,3]\n",
    "]\n",
    "\n",
    "f_prefs=[\n",
    "[1,2],\n",
    "[1,4],\n",
    "[3,1,2]\n",
    "]"
   ]
  },
  {
   "cell_type": "code",
   "execution_count": 7,
   "metadata": {
    "collapsed": false
   },
   "outputs": [
    {
     "data": {
      "text/plain": [
       "3-element Array{Int64,1}:\n",
       " 0\n",
       " 0\n",
       " 0"
      ]
     },
     "execution_count": 7,
     "metadata": {},
     "output_type": "execute_result"
    }
   ],
   "source": [
    "#beginning\n",
    "f_matched = zeros(Int, 3)"
   ]
  },
  {
   "cell_type": "code",
   "execution_count": 5,
   "metadata": {
    "collapsed": false
   },
   "outputs": [
    {
     "data": {
      "text/plain": [
       "4-element BitArray{1}:\n",
       " true\n",
       " true\n",
       " true\n",
       " true"
      ]
     },
     "execution_count": 5,
     "metadata": {},
     "output_type": "execute_result"
    }
   ],
   "source": [
    "#who is unmatched?\n",
    "m_unmatched=trues(4)"
   ]
  },
  {
   "cell_type": "code",
   "execution_count": 8,
   "metadata": {
    "collapsed": false
   },
   "outputs": [
    {
     "data": {
      "text/plain": [
       "4-element Array{Int64,1}:\n",
       " 1\n",
       " 1\n",
       " 1\n",
       " 1"
      ]
     },
     "execution_count": 8,
     "metadata": {},
     "output_type": "execute_result"
    }
   ],
   "source": [
    "#選好の一番をみる\n",
    "m_pointers = ones(Int, 4)"
   ]
  },
  {
   "cell_type": "code",
   "execution_count": null,
   "metadata": {
    "collapsed": true
   },
   "outputs": [],
   "source": []
  },
  {
   "cell_type": "code",
   "execution_count": null,
   "metadata": {
    "collapsed": true
   },
   "outputs": [],
   "source": [
    "#there exists unmatched male\n",
    "while any(m_unmatched)\n",
    "    for m in 1:4\n",
    "    if m_unmatched[m]\n",
    "            #propose\n",
    "            f = m_prefs[m][m_pointers[m]]\n",
    "            if m in f_prefs[f]\n",
    "                if f_matched[f] == 0\n",
    "                    f_matched[f] = m\n",
    "                    m_unmatched[m] = false\n",
    "                    m_pointers[m] += 1\n",
    "                    \n",
    "                \n",
    "                    #propose\n",
    "                    if m_pointers[m] == length(m_prefs[m])\n",
    "                        m_unmatched[m] = false\n",
    "                    end\n",
    "                else\n",
    "                    current_m = f_matched[f]\n",
    "\n",
    "                    if findfirst(f_prefs[f], current_m) > findfirst(f_prefs[f], m)\n",
    "                        f_matched[f] = m\n",
    "                        m_unmatched[m] = false\n",
    "                        m_pointers[m] += 1\n",
    "                        m_unmatched[current_m] = true\n",
    "                        \n",
    "                        \n",
    "                        #propose\n",
    "                        if m_pointers[m] == length(m_prefs[m])\n",
    "                            m_unmatched[m] = false\n",
    "                        end\n",
    "                    end\n",
    "               \n",
    "                end\n",
    "                \n",
    "            else\n",
    "                \n",
    "                if m_pointers[m] == length(m_prefs[m])\n",
    "                            m_unmatched[m] = false\n",
    "                else\n",
    "                    m_pointers[m] += 1\n",
    "                end\n",
    "                \n",
    "            end\n",
    "        end\n",
    "    end\n",
    "end   "
   ]
  },
  {
   "cell_type": "code",
   "execution_count": null,
   "metadata": {
    "collapsed": true
   },
   "outputs": [],
   "source": []
  }
 ],
 "metadata": {
  "kernelspec": {
   "display_name": "Julia 0.5.1",
   "language": "julia",
   "name": "julia-0.5"
  },
  "language_info": {
   "file_extension": ".jl",
   "mimetype": "application/julia",
   "name": "julia",
   "version": "0.5.1"
  }
 },
 "nbformat": 4,
 "nbformat_minor": 2
}
