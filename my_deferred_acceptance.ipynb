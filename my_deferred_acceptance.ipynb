{
 "cells": [
  {
   "cell_type": "code",
   "execution_count": 2,
   "metadata": {
    "collapsed": false
   },
   "outputs": [
    {
     "data": {
      "text/plain": [
       "3-element Array{Array{Int64,1},1}:\n",
       " [1,2]  \n",
       " [1,4]  \n",
       " [3,1,2]"
      ]
     },
     "execution_count": 2,
     "metadata": {},
     "output_type": "execute_result"
    }
   ],
   "source": [
    "m_prefs=[\n",
    "[3,2,1],\n",
    "[2,3,1],\n",
    "[1,3,2],\n",
    "[2,1,3]\n",
    "]\n",
    "\n",
    "f_prefs=[\n",
    "[1,2],\n",
    "[1,4],\n",
    "[3,1,2]\n",
    "]"
   ]
  },
  {
   "cell_type": "code",
   "execution_count": 7,
   "metadata": {
    "collapsed": false
   },
   "outputs": [
    {
     "data": {
      "text/plain": [
       "3-element Array{Int64,1}:\n",
       " 0\n",
       " 0\n",
       " 0"
      ]
     },
     "execution_count": 7,
     "metadata": {},
     "output_type": "execute_result"
    }
   ],
   "source": [
    "#beginning\n",
    "f_matched = zeros(Int, 3)"
   ]
  },
  {
   "cell_type": "code",
   "execution_count": 5,
   "metadata": {
    "collapsed": false
   },
   "outputs": [
    {
     "data": {
      "text/plain": [
       "4-element BitArray{1}:\n",
       " true\n",
       " true\n",
       " true\n",
       " true"
      ]
     },
     "execution_count": 5,
     "metadata": {},
     "output_type": "execute_result"
    }
   ],
   "source": [
    "#who is unmatched?\n",
    "m_unmatched=trues(4)"
   ]
  },
  {
   "cell_type": "code",
   "execution_count": 8,
   "metadata": {
    "collapsed": false
   },
   "outputs": [
    {
     "data": {
      "text/plain": [
       "4-element Array{Int64,1}:\n",
       " 1\n",
       " 1\n",
       " 1\n",
       " 1"
      ]
     },
     "execution_count": 8,
     "metadata": {},
     "output_type": "execute_result"
    }
   ],
   "source": [
    "#選好の一番をみる\n",
    "m_pointers = ones(Int, 4)"
   ]
  },
  {
   "cell_type": "code",
   "execution_count": 1,
   "metadata": {
    "collapsed": false
   },
   "outputs": [
    {
     "ename": "LoadError",
     "evalue": "syntax: break or continue outside loop",
     "output_type": "error",
     "traceback": [
      "syntax: break or continue outside loop",
      ""
     ]
    }
   ],
   "source": [
    "function my_deferred_acceptance(m_prefs, f_prefs)\n",
    "        num_m = length(m_prefs)\n",
    "        num_f = length(f_prefs)\n",
    "        f_matched = zeros(Int, num_f)\n",
    "        #m_matched = zeros(4)\n",
    "        m_unmatched = collect(1:num_m)\n",
    "        m_pointers = ones(Int, num_m)\n",
    "        while length(m_unmatched) > 0\n",
    "              m = m_unmatched[1]\n",
    "              if length(m_prefs[m]) < m_pointers[m]\n",
    "                  println(m, \" finished proposing\", m_pointers[m], length(m_prefs[m]))\n",
    "                  shift!(m_unmatched)\n",
    "                  continue\n",
    "              end\n",
    "              f = m_prefs[m][m_pointers[m]]\n",
    "             println(m, \" proposes to \", f)\n",
    "              if m in f_prefs[f] #if m is favorable to f\n",
    "             println(f, \" thinks \", m, \" is favorable\")\n",
    "                  current_m = f_matched[f] \n",
    "                  if current_m == 0 #if f is not married\n",
    "                println(\"because \", f, \" is solitary, matched\")\n",
    "                      f_matched[f] = m\n",
    "                      shift!(m_unmatched)\n",
    "                      continue\n",
    "                  elseif findfirst(f_prefs[f], current_m) > findfirst(f_prefs[f], m) #if m is more preferred\n",
    "                 println(\"because \", m, \" is more preferred to \", current_m, \", matched\")\n",
    "                      f_matched[f] = m\n",
    "                      m_unmatched[1] = current_m\n",
    "                      m_pointers[current_m] += 1\n",
    "                      continue\n",
    "                  end\n",
    "                println(m, \" is less preferred to \", current_m)\n",
    "              end\n",
    "             println(m, \"failed proposing\")\n",
    "              m_pointers[m] += 1\n",
    "          end\n",
    "\n",
    "            m = m_unmatched[1]\n",
    "            m_pointers[m] += 1\n",
    "            if length(m_prefs[m]) < m_pointers[m]\n",
    "                shift!(m_unmatched)\n",
    "                continue\n",
    "            end\n",
    "            f = m_prefs[m][m_pointers[m]]\n",
    "            if m in f_prefs[f]\n",
    "                if f_matched[f] == 0\n",
    "                    f_matched[f] = m\n",
    "                    shift!(m_unmatched)\n",
    "                else\n",
    "                    current_m = f_matched[f]\n",
    "                    if findfirst(f_prefs[f], current_m) > findfirst(f_prefs[f], m)\n",
    "                        f_matched[f] = m\n",
    "                        shift!(m_unmatched)\n",
    "                        push!(m_unmatched, current_m)\n",
    "                    end\n",
    "                end\n",
    "            end\n",
    "        end\n",
    "        m_matched = [findfirst(f_matched, i) for i in 1:num_m]\n",
    "    return f_matched, m_matched\n",
    "end"
   ]
  },
  {
   "cell_type": "code",
   "execution_count": null,
   "metadata": {
    "collapsed": true
   },
   "outputs": [],
   "source": []
  }
 ],
 "metadata": {
  "kernelspec": {
   "display_name": "Julia 0.5.1",
   "language": "julia",
   "name": "julia-0.5"
  },
  "language_info": {
   "file_extension": ".jl",
   "mimetype": "application/julia",
   "name": "julia",
   "version": "0.5.1"
  }
 },
 "nbformat": 4,
 "nbformat_minor": 2
}
