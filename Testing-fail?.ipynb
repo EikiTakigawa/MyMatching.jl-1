{
 "cells": [
  {
   "cell_type": "code",
   "execution_count": 1,
   "metadata": {
    "collapsed": false
   },
   "outputs": [
    {
     "name": "stderr",
     "output_type": "stream",
     "text": [
      "\u001b[1m\u001b[34mINFO: Cloning MyMatching from https://github.com/ellenjunghyunkim/MyMatching.jl\n",
      "\u001b[0m"
     ]
    },
    {
     "ename": "LoadError",
     "evalue": "MyMatching already exists",
     "output_type": "error",
     "traceback": [
      "MyMatching already exists",
      "",
      " in clone(::String, ::SubString{String}) at ./pkg/entry.jl:193",
      " in clone(::String) at ./pkg/entry.jl:221",
      " in (::Base.Pkg.Dir.##2#3{Array{Any,1},Base.Pkg.Entry.#clone,Tuple{String}})() at ./pkg/dir.jl:31",
      " in cd(::Base.Pkg.Dir.##2#3{Array{Any,1},Base.Pkg.Entry.#clone,Tuple{String}}, ::String) at ./file.jl:59",
      " in #cd#1(::Array{Any,1}, ::Function, ::Function, ::String, ::Vararg{Any,N}) at ./pkg/dir.jl:31",
      " in clone(::String) at ./pkg/pkg.jl:151"
     ]
    }
   ],
   "source": [
    "Pkg.clone(\"https://github.com/ellenjunghyunkim/MyMatching.jl\")"
   ]
  },
  {
   "cell_type": "code",
   "execution_count": 2,
   "metadata": {
    "collapsed": true
   },
   "outputs": [],
   "source": [
    "using MyMatching"
   ]
  },
  {
   "cell_type": "code",
   "execution_count": 3,
   "metadata": {
    "collapsed": false
   },
   "outputs": [
    {
     "data": {
      "text/plain": [
       "my_deferred_acceptance (generic function with 1 method)"
      ]
     },
     "execution_count": 3,
     "metadata": {},
     "output_type": "execute_result"
    }
   ],
   "source": [
    "const _deferred_acceptance = my_deferred_acceptance"
   ]
  },
  {
   "cell_type": "code",
   "execution_count": 5,
   "metadata": {
    "collapsed": false
   },
   "outputs": [
    {
     "name": "stderr",
     "output_type": "stream",
     "text": [
      "\u001b[1m\u001b[34mINFO: Updating METADATA...\n",
      "\u001b[0m"
     ]
    },
    {
     "ename": "LoadError",
     "evalue": "Package master is not installed",
     "output_type": "error",
     "traceback": [
      "Package master is not installed",
      "",
      " in partial_update_mask(::Dict{String,Tuple{VersionNumber,Bool}}, ::Dict{String,Dict{VersionNumber,Base.Pkg.Types.Available}}, ::Set{String}) at ./pkg/query.jl:74",
      " in update(::String, ::Set{String}) at ./pkg/entry.jl:399",
      " in (::Base.Pkg.Dir.##2#3{Array{Any,1},Base.Pkg.Entry.#update,Tuple{String,Set{String}}})() at ./pkg/dir.jl:31",
      " in cd(::Base.Pkg.Dir.##2#3{Array{Any,1},Base.Pkg.Entry.#update,Tuple{String,Set{String}}}, ::String) at ./file.jl:59",
      " in cd(::Base.Pkg.Dir.##2#3{Array{Any,1},Base.Pkg.Entry.#update,Tuple{String,Set{String}}}, ::String) at /Users/ellen/Desktop/Julia-0.5.app/Contents/Resources/julia/lib/julia/sys.dylib:?",
      " in #cd#1(::Array{Any,1}, ::Function, ::Function, ::String, ::Vararg{Any,N}) at ./pkg/dir.jl:31",
      " in update(::String, ::Vararg{String,N}) at ./pkg/pkg.jl:210"
     ]
    }
   ],
   "source": [
    "Pkg.update(\"MyMatching\", \"master\")"
   ]
  },
  {
   "cell_type": "code",
   "execution_count": 2,
   "metadata": {
    "collapsed": false
   },
   "outputs": [
    {
     "name": "stderr",
     "output_type": "stream",
     "text": [
      "\u001b[1m\u001b[34mINFO: Testing MyMatching\n",
      "\u001b[0m"
     ]
    },
    {
     "name": "stdout",
     "output_type": "stream",
     "text": [
      "\u001b[1m\u001b[37mone-to-one: Vector of Vectors: \u001b[0m\u001b[1m\u001b[31mTest Failed\n",
      "\u001b[0m  Expression: m_matches == d[\"m_matches_m_opt\"]\n",
      "   Evaluated: [2,1,3] == [1,2,3,0]\n",
      " in record(::Base.Test.DefaultTestSet, ::Base.Test.Fail) at ./test.jl:431\n",
      " in do_test(::Base.Test.Returned, ::Expr) at ./test.jl:281\n",
      " in macro expansion; at /Users/ellen/.julia/v0.5/MyMatching/test/runtests.jl:103 [inlined]\n",
      " in macro expansion; at ./test.jl:674 [inlined]\n",
      " in macro expansion; at /Users/ellen/.julia/v0.5/MyMatching/test/runtests.jl:96 [inlined]\n",
      " in macro expansion; at ./test.jl:674 [inlined]\n",
      " in anonymous at ./<missing>:?\n",
      " in include_from_node1(::String) at ./loading.jl:488\n",
      " in include_from_node1(::String) at /Users/ellen/Desktop/Julia-0.5.app/Contents/Resources/julia/lib/julia/sys.dylib:?\n",
      " in process_options(::Base.JLOptions) at ./client.jl:265\n",
      " in _start() at ./client.jl:321\n",
      " in _start() at /Users/ellen/Desktop/Julia-0.5.app/Contents/Resources/julia/lib/julia/sys.dylib:?\n",
      "\u001b[1m\u001b[37mone-to-one: Vector of Vectors: \u001b[0m\u001b[1m\u001b[31mTest Failed\n",
      "\u001b[0m  Expression: f_matches == d[\"f_matches_m_opt\"]\n",
      "   Evaluated: [2,1,3,0] == [1,2,3]\n",
      " in record(::Base.Test.DefaultTestSet, ::Base.Test.Fail) at ./test.jl:431\n",
      " in do_test(::Base.Test.Returned, ::Expr) at ./test.jl:281\n",
      " in macro expansion; at /Users/ellen/.julia/v0.5/MyMatching/test/runtests.jl:104 [inlined]\n",
      " in macro expansion; at ./test.jl:674 [inlined]\n",
      " in macro expansion; at /Users/ellen/.julia/v0.5/MyMatching/test/runtests.jl:96 [inlined]\n",
      " in macro expansion; at ./test.jl:674 [inlined]\n",
      " in anonymous at ./<missing>:?\n",
      " in include_from_node1(::String) at ./loading.jl:488\n",
      " in include_from_node1(::String) at /Users/ellen/Desktop/Julia-0.5.app/Contents/Resources/julia/lib/julia/sys.dylib:?\n",
      " in process_options(::Base.JLOptions) at ./client.jl:265\n",
      " in _start() at ./client.jl:321\n",
      " in _start() at /Users/ellen/Desktop/Julia-0.5.app/Contents/Resources/julia/lib/julia/sys.dylib:?\n",
      "\u001b[1m\u001b[37mone-to-one: Vector of Vectors: \u001b[0m\u001b[1m\u001b[31mTest Failed\n",
      "\u001b[0m  Expression: m_matches == d[\"m_matches_f_opt\"]\n",
      "   Evaluated: [1,2,0] == [1,2,3,0]\n",
      " in record(::Base.Test.DefaultTestSet, ::Base.Test.Fail) at ./test.jl:431\n",
      " in do_test(::Base.Test.Returned, ::Expr) at ./test.jl:281\n",
      " in macro expansion; at /Users/ellen/.julia/v0.5/MyMatching/test/runtests.jl:108 [inlined]\n",
      " in macro expansion; at ./test.jl:674 [inlined]\n",
      " in macro expansion; at /Users/ellen/.julia/v0.5/MyMatching/test/runtests.jl:96 [inlined]\n",
      " in macro expansion; at ./test.jl:674 [inlined]\n",
      " in anonymous at ./<missing>:?\n",
      " in include_from_node1(::String) at ./loading.jl:488\n",
      " in include_from_node1(::String) at /Users/ellen/Desktop/Julia-0.5.app/Contents/Resources/julia/lib/julia/sys.dylib:?\n",
      " in process_options(::Base.JLOptions) at ./client.jl:265\n",
      " in _start() at ./client.jl:321\n",
      " in _start() at /Users/ellen/Desktop/Julia-0.5.app/Contents/Resources/julia/lib/julia/sys.dylib:?\n",
      "\u001b[1m\u001b[37mone-to-one: Vector of Vectors: \u001b[0m\u001b[1m\u001b[31mTest Failed\n",
      "\u001b[0m  Expression: f_matches == d[\"f_matches_f_opt\"]\n",
      "   Evaluated: [1,2,0,0] == [1,2,3]\n",
      " in record(::Base.Test.DefaultTestSet, ::Base.Test.Fail) at ./test.jl:431\n",
      " in do_test(::Base.Test.Returned, ::Expr) at ./test.jl:281\n",
      " in macro expansion; at /Users/ellen/.julia/v0.5/MyMatching/test/runtests.jl:109 [inlined]\n",
      " in macro expansion; at ./test.jl:674 [inlined]\n",
      " in macro expansion; at /Users/ellen/.julia/v0.5/MyMatching/test/runtests.jl:96 [inlined]\n",
      " in macro expansion; at ./test.jl:674 [inlined]\n",
      " in anonymous at ./<missing>:?\n",
      " in include_from_node1(::String) at ./loading.jl:488\n",
      " in include_from_node1(::String) at /Users/ellen/Desktop/Julia-0.5.app/Contents/Resources/julia/lib/julia/sys.dylib:?\n",
      " in process_options(::Base.JLOptions) at ./client.jl:265\n",
      " in _start() at ./client.jl:321\n",
      " in _start() at /Users/ellen/Desktop/Julia-0.5.app/Contents/Resources/julia/lib/julia/sys.dylib:?\n",
      "\u001b[1m\u001b[37mone-to-one: Vector of Vectors: \u001b[0m\u001b[1m\u001b[31mTest Failed\n",
      "\u001b[0m  Expression: m_matches == d[\"m_matches_m_opt\"]\n",
      "   Evaluated: [3,1,2,4] == [1,2,3,4,0]\n",
      " in record(::Base.Test.DefaultTestSet, ::Base.Test.Fail) at ./test.jl:431\n",
      " in do_test(::Base.Test.Returned, ::Expr) at ./test.jl:281\n",
      " in macro expansion; at /Users/ellen/.julia/v0.5/MyMatching/test/runtests.jl:103 [inlined]\n",
      " in macro expansion; at ./test.jl:674 [inlined]\n",
      " in macro expansion; at /Users/ellen/.julia/v0.5/MyMatching/test/runtests.jl:96 [inlined]\n",
      " in macro expansion; at ./test.jl:674 [inlined]\n",
      " in anonymous at ./<missing>:?\n",
      " in include_from_node1(::String) at ./loading.jl:488\n",
      " in include_from_node1(::String) at /Users/ellen/Desktop/Julia-0.5.app/Contents/Resources/julia/lib/julia/sys.dylib:?\n",
      " in process_options(::Base.JLOptions) at ./client.jl:265\n",
      " in _start() at ./client.jl:321\n",
      " in _start() at /Users/ellen/Desktop/Julia-0.5.app/Contents/Resources/julia/lib/julia/sys.dylib:?\n",
      "\u001b[1m\u001b[37mone-to-one: Vector of Vectors: \u001b[0m\u001b[1m\u001b[31mTest Failed\n",
      "\u001b[0m  Expression: f_matches == d[\"f_matches_m_opt\"]\n",
      "   Evaluated: [2,3,1,4,0] == [1,2,3,4]\n",
      " in record(::Base.Test.DefaultTestSet, ::Base.Test.Fail) at ./test.jl:431\n",
      " in do_test(::Base.Test.Returned, ::Expr) at ./test.jl:281\n",
      " in macro expansion; at /Users/ellen/.julia/v0.5/MyMatching/test/runtests.jl:104 [inlined]\n",
      " in macro expansion; at ./test.jl:674 [inlined]\n",
      " in macro expansion; at /Users/ellen/.julia/v0.5/MyMatching/test/runtests.jl:96 [inlined]\n",
      " in macro expansion; at ./test.jl:674 [inlined]\n",
      " in anonymous at ./<missing>:?\n",
      " in include_from_node1(::String) at ./loading.jl:488\n",
      " in include_from_node1(::String) at /Users/ellen/Desktop/Julia-0.5.app/Contents/Resources/julia/lib/julia/sys.dylib:?\n",
      " in process_options(::Base.JLOptions) at ./client.jl:265\n",
      " in _start() at ./client.jl:321\n",
      " in _start() at /Users/ellen/Desktop/Julia-0.5.app/Contents/Resources/julia/lib/julia/sys.dylib:?\n",
      "\u001b[1m\u001b[37mone-to-one: Vector of Vectors: \u001b[0m\u001b[1m\u001b[31mTest Failed\n",
      "\u001b[0m  Expression: m_matches == d[\"m_matches_f_opt\"]\n",
      "   Evaluated: [3,1,2,4] == [4,1,2,3,0]\n",
      " in record(::Base.Test.DefaultTestSet, ::Base.Test.Fail) at ./test.jl:431\n",
      " in do_test(::Base.Test.Returned, ::Expr) at ./test.jl:281\n",
      " in macro expansion; at /Users/ellen/.julia/v0.5/MyMatching/test/runtests.jl:108 [inlined]\n",
      " in macro expansion; at ./test.jl:674 [inlined]\n",
      " in macro expansion; at /Users/ellen/.julia/v0.5/MyMatching/test/runtests.jl:96 [inlined]\n",
      " in macro expansion; at ./test.jl:674 [inlined]\n",
      " in anonymous at ./<missing>:?\n",
      " in include_from_node1(::String) at ./loading.jl:488\n",
      " in include_from_node1(::String) at /Users/ellen/Desktop/Julia-0.5.app/Contents/Resources/julia/lib/julia/sys.dylib:?\n",
      " in process_options(::Base.JLOptions) at ./client.jl:265\n",
      " in _start() at ./client.jl:321\n",
      " in _start() at /Users/ellen/Desktop/Julia-0.5.app/Contents/Resources/julia/lib/julia/sys.dylib:?\n",
      "\u001b[1m\u001b[37mone-to-one: Vector of Vectors: \u001b[0m\u001b[1m\u001b[31mTest Failed\n",
      "\u001b[0m  Expression: f_matches == d[\"f_matches_f_opt\"]\n",
      "   Evaluated: [2,3,1,4,0] == [2,3,4,1]\n",
      " in record(::Base.Test.DefaultTestSet, ::Base.Test.Fail) at ./test.jl:431\n",
      " in do_test(::Base.Test.Returned, ::Expr) at ./test.jl:281\n",
      " in macro expansion; at /Users/ellen/.julia/v0.5/MyMatching/test/runtests.jl:109 [inlined]\n",
      " in macro expansion; at ./test.jl:674 [inlined]\n",
      " in macro expansion; at /Users/ellen/.julia/v0.5/MyMatching/test/runtests.jl:96 [inlined]\n",
      " in macro expansion; at ./test.jl:674 [inlined]\n",
      " in anonymous at ./<missing>:?\n",
      " in include_from_node1(::String) at ./loading.jl:488\n",
      " in include_from_node1(::String) at /Users/ellen/Desktop/Julia-0.5.app/Contents/Resources/julia/lib/julia/sys.dylib:?\n",
      " in process_options(::Base.JLOptions) at ./client.jl:265\n",
      " in _start() at ./client.jl:321\n",
      " in _start() at /Users/ellen/Desktop/Julia-0.5.app/Contents/Resources/julia/lib/julia/sys.dylib:?\n",
      "\u001b[1m\u001b[37mone-to-one: Vector of Vectors: \u001b[0m\u001b[1m\u001b[31mTest Failed\n",
      "\u001b[0m  Expression: m_matches == d[\"m_matches_m_opt\"]\n",
      "   Evaluated: [2,1,4,3] == [1,2,3,4]\n",
      " in record(::Base.Test.DefaultTestSet, ::Base.Test.Fail) at ./test.jl:431\n",
      " in do_test(::Base.Test.Returned, ::Expr) at ./test.jl:281\n",
      " in macro expansion; at /Users/ellen/.julia/v0.5/MyMatching/test/runtests.jl:103 [inlined]\n",
      " in macro expansion; at ./test.jl:674 [inlined]\n",
      " in macro expansion; at /Users/ellen/.julia/v0.5/MyMatching/test/runtests.jl:96 [inlined]\n",
      " in macro expansion; at ./test.jl:674 [inlined]\n",
      " in anonymous at ./<missing>:?\n",
      " in include_from_node1(::String) at ./loading.jl:488\n",
      " in include_from_node1(::String) at /Users/ellen/Desktop/Julia-0.5.app/Contents/Resources/julia/lib/julia/sys.dylib:?\n",
      " in process_options(::Base.JLOptions) at ./client.jl:265\n",
      " in _start() at ./client.jl:321\n",
      " in _start() at /Users/ellen/Desktop/Julia-0.5.app/Contents/Resources/julia/lib/julia/sys.dylib:?\n",
      "\u001b[1m\u001b[37mone-to-one: Vector of Vectors: \u001b[0m\u001b[1m\u001b[31mTest Failed\n",
      "\u001b[0m  Expression: f_matches == d[\"f_matches_m_opt\"]\n",
      "   Evaluated: [2,1,4,3] == [1,2,3,4]\n",
      " in record(::Base.Test.DefaultTestSet, ::Base.Test.Fail) at ./test.jl:431\n",
      " in do_test(::Base.Test.Returned, ::Expr) at ./test.jl:281\n",
      " in macro expansion; at /Users/ellen/.julia/v0.5/MyMatching/test/runtests.jl:104 [inlined]\n",
      " in macro expansion; at ./test.jl:674 [inlined]\n",
      " in macro expansion; at /Users/ellen/.julia/v0.5/MyMatching/test/runtests.jl:96 [inlined]\n",
      " in macro expansion; at ./test.jl:674 [inlined]\n",
      " in anonymous at ./<missing>:?\n",
      " in include_from_node1(::String) at ./loading.jl:488\n",
      " in include_from_node1(::String) at /Users/ellen/Desktop/Julia-0.5.app/Contents/Resources/julia/lib/julia/sys.dylib:?\n",
      " in process_options(::Base.JLOptions) at ./client.jl:265\n",
      " in _start() at ./client.jl:321\n",
      " in _start() at /Users/ellen/Desktop/Julia-0.5.app/Contents/Resources/julia/lib/julia/sys.dylib:?\n",
      "\u001b[1m\u001b[37mone-to-one: Vector of Vectors: \u001b[0m\u001b[1m\u001b[31mTest Failed\n",
      "\u001b[0m  Expression: m_matches == d[\"m_matches_f_opt\"]\n",
      "   Evaluated: [3,4,1,2] == [4,3,2,1]\n",
      " in record(::Base.Test.DefaultTestSet, ::Base.Test.Fail) at ./test.jl:431\n",
      " in do_test(::Base.Test.Returned, ::Expr) at ./test.jl:281\n",
      " in macro expansion; at /Users/ellen/.julia/v0.5/MyMatching/test/runtests.jl:108 [inlined]\n",
      " in macro expansion; at ./test.jl:674 [inlined]\n",
      " in macro expansion; at /Users/ellen/.julia/v0.5/MyMatching/test/runtests.jl:96 [inlined]\n",
      " in macro expansion; at ./test.jl:674 [inlined]\n",
      " in anonymous at ./<missing>:?\n",
      " in include_from_node1(::String) at ./loading.jl:488\n",
      " in include_from_node1(::String) at /Users/ellen/Desktop/Julia-0.5.app/Contents/Resources/julia/lib/julia/sys.dylib:?\n",
      " in process_options(::Base.JLOptions) at ./client.jl:265\n",
      " in _start() at ./client.jl:321\n",
      " in _start() at /Users/ellen/Desktop/Julia-0.5.app/Contents/Resources/julia/lib/julia/sys.dylib:?\n",
      "\u001b[1m\u001b[37mone-to-one: Vector of Vectors: \u001b[0m\u001b[1m\u001b[31mTest Failed\n",
      "\u001b[0m  Expression: f_matches == d[\"f_matches_f_opt\"]\n",
      "   Evaluated: [3,4,1,2] == [4,3,2,1]\n",
      " in record(::Base.Test.DefaultTestSet, ::Base.Test.Fail) at ./test.jl:431\n",
      " in do_test(::Base.Test.Returned, ::Expr) at ./test.jl:281\n",
      " in macro expansion; at /Users/ellen/.julia/v0.5/MyMatching/test/runtests.jl:109 [inlined]\n",
      " in macro expansion; at ./test.jl:674 [inlined]\n",
      " in macro expansion; at /Users/ellen/.julia/v0.5/MyMatching/test/runtests.jl:96 [inlined]\n",
      " in macro expansion; at ./test.jl:674 [inlined]\n",
      " in anonymous at ./<missing>:?\n",
      " in include_from_node1(::String) at ./loading.jl:488\n",
      " in include_from_node1(::String) at /Users/ellen/Desktop/Julia-0.5.app/Contents/Resources/julia/lib/julia/sys.dylib:?\n",
      " in process_options(::Base.JLOptions) at ./client.jl:265\n",
      " in _start() at ./client.jl:321\n",
      " in _start() at /Users/ellen/Desktop/Julia-0.5.app/Contents/Resources/julia/lib/julia/sys.dylib:?\n",
      "\u001b[1m\u001b[37mTest Summary:                   | \u001b[0m\u001b[1m\u001b[31mFail  \u001b[0m\u001b[1m\u001b[34mTotal\u001b[0m\n",
      "  Testing deferred acceptance   | \u001b[1m\u001b[31m  12  \u001b[0m\u001b[1m\u001b[34m   12\u001b[0m\n",
      "  one-to-one: Vector of Vectors | \u001b[1m\u001b[31m  12  \u001b[0m\u001b[1m\u001b[34m   12\u001b[0m\n"
     ]
    },
    {
     "name": "stderr",
     "output_type": "stream",
     "text": [
      "\u001b[1m\u001b[31mERROR: LoadError: Some tests did not pass: 0 passed, 12 failed, 0 errored, 0 broken.\n",
      " in finish(::Base.Test.DefaultTestSet) at ./test.jl:498\n",
      " in macro expansion; at ./test.jl:681 [inlined]\n",
      " in anonymous at ./<missing>:?\n",
      " in include_from_node1(::String) at ./loading.jl:488\n",
      " in include_from_node1(::String) at /Users/ellen/Desktop/Julia-0.5.app/Contents/Resources/julia/lib/julia/sys.dylib:?\n",
      " in process_options(::Base.JLOptions) at ./client.jl:265\n",
      " in _start() at ./client.jl:321\n",
      " in _start() at /Users/ellen/Desktop/Julia-0.5.app/Contents/Resources/julia/lib/julia/sys.dylib:?\n",
      "while loading /Users/ellen/.julia/v0.5/MyMatching/test/runtests.jl, in expression starting on line 10\n",
      "\u001b[0m\u001b[1m\u001b[31m=============================[ ERROR: MyMatching ]==============================\u001b[0m\n",
      "\n",
      "\u001b[1m\u001b[31mfailed process: Process(`/Users/ellen/Desktop/Julia-0.5.app/Contents/Resources/julia/bin/julia -Ccore2 -J/Users/ellen/Desktop/Julia-0.5.app/Contents/Resources/julia/lib/julia/sys.dylib --compile=yes --depwarn=yes --check-bounds=yes --code-coverage=none --color=yes --compilecache=yes /Users/ellen/.julia/v0.5/MyMatching/test/runtests.jl`, ProcessExited(1)) [1]\u001b[0m\n",
      "\n",
      "\u001b[1m\u001b[31m================================================================================\u001b[0m\n"
     ]
    },
    {
     "ename": "LoadError",
     "evalue": "MyMatching had test errors",
     "output_type": "error",
     "traceback": [
      "MyMatching had test errors",
      "",
      " in #test#61(::Bool, ::Function, ::Array{AbstractString,1}) at ./pkg/entry.jl:749",
      " in (::Base.Pkg.Entry.#kw##test)(::Array{Any,1}, ::Base.Pkg.Entry.#test, ::Array{AbstractString,1}) at ./<missing>:0",
      " in (::Base.Pkg.Dir.##2#3{Array{Any,1},Base.Pkg.Entry.#test,Tuple{Array{AbstractString,1}}})() at ./pkg/dir.jl:31",
      " in cd(::Base.Pkg.Dir.##2#3{Array{Any,1},Base.Pkg.Entry.#test,Tuple{Array{AbstractString,1}}}, ::String) at ./file.jl:59",
      " in #cd#1(::Array{Any,1}, ::Function, ::Function, ::Array{AbstractString,1}, ::Vararg{Array{AbstractString,1},N}) at ./pkg/dir.jl:31",
      " in (::Base.Pkg.Dir.#kw##cd)(::Array{Any,1}, ::Base.Pkg.Dir.#cd, ::Function, ::Array{AbstractString,1}, ::Vararg{Array{AbstractString,1},N}) at ./<missing>:0",
      " in #test#3(::Bool, ::Function, ::String, ::Vararg{String,N}) at ./pkg/pkg.jl:258",
      " in test(::String, ::Vararg{String,N}) at ./pkg/pkg.jl:258"
     ]
    }
   ],
   "source": [
    "Pkg.test(\"MyMatching\")"
   ]
  },
  {
   "cell_type": "code",
   "execution_count": null,
   "metadata": {
    "collapsed": true
   },
   "outputs": [],
   "source": []
  }
 ],
 "metadata": {
  "kernelspec": {
   "display_name": "Julia 0.5.1",
   "language": "julia",
   "name": "julia-0.5"
  },
  "language_info": {
   "file_extension": ".jl",
   "mimetype": "application/julia",
   "name": "julia",
   "version": "0.5.1"
  }
 },
 "nbformat": 4,
 "nbformat_minor": 2
}
