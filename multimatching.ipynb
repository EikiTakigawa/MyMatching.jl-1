{
 "cells": [
  {
   "cell_type": "code",
   "execution_count": 9,
   "metadata": {
    "collapsed": false
   },
   "outputs": [
    {
     "ename": "LoadError",
     "evalue": "syntax: invalid assignment location \"1\"",
     "output_type": "error",
     "traceback": [
      "syntax: invalid assignment location \"1\"",
      ""
     ]
    }
   ],
   "source": [
    "function my_deferred_acceptance_mm(prop_prefs::Matrix{Int},\n",
    "                                   resp_prefs::Matrix{Int}, \n",
    "                                   caps::Vector{Int})\n",
    "        num_prop = length(prop_prefs)\n",
    "        num_resp = length(resp_prefs)\n",
    "        prop_matched = zeros(Int,num_prop)\n",
    "        resp_matched = zeros(Int, sum(caps))\n",
    "        prop_unmatched = collect(1:num_prop)\n",
    "        prop_pointers = ones(Int, num_prop)\n",
    "        accept = zeros(Int,num_resp)\n",
    "        insertarray = ones(Int64, maximum(caps) + 1)*(num_prop+1)\n",
    "    #making indptr\n",
    "        indptr = Array(Int, num_resp+1)\n",
    "        indptr[1] = 1\n",
    "        for i in 1:num_resp\n",
    "            indptr[i+1] = indptr[i] + caps[i]\n",
    "        end\n",
    "    #main loop\n",
    "    \n",
    "        for j in 1:num_resp\n",
    "            for i in 1:num_prop\n",
    "                if prop_matched[i] == 0 && prop_pointers[i] <= length(prop_prefs[i])\n",
    "                k = prop_prefs[i][prop_pointers[i]]\n",
    "                if findfirst(resp_prefs[k],i) != 0\n",
    "                    if accept[k] < caps[k]\n",
    "                        resp_matched[indptr[k+1]-1 - accept[k]]=i\n",
    "                        prop_matched[i]=k\n",
    "                        accept[k]+=1\n",
    "                    \n",
    "                    else\n",
    "                        list= resp_matched[indptr[k]:indptr[k+1]-1]\n",
    "                        ranking = zeros(Int64, caps[k])\n",
    "                        for 1 in 1:caps[k]\n",
    "                            ranking[1]= findfirst(resp_prefs[1],list(i))\n",
    "                        end\n",
    "                        \n",
    "                        if 0< findfirst(resp_prefs[k],i)<maximum(ranking)\n",
    "                            resp_matched[indptr[k]+indmax(ranking)-1]=i\n",
    "                            prop_matched[list[indmax(ranking)]]=0\n",
    "                            prop_matched[i]=k\n",
    "                        end\n",
    "                    end\n",
    "                end\n",
    "                prop_pointers[i]+=1\n",
    "            end\n",
    "        end\n",
    "    end\n",
    "    return prop_matched, resp_matched, indptr\n",
    "end"
   ]
  },
  {
   "cell_type": "code",
   "execution_count": null,
   "metadata": {
    "collapsed": true
   },
   "outputs": [],
   "source": []
  }
 ],
 "metadata": {
  "kernelspec": {
   "display_name": "Julia 0.5.1",
   "language": "julia",
   "name": "julia-0.5"
  },
  "language_info": {
   "file_extension": ".jl",
   "mimetype": "application/julia",
   "name": "julia",
   "version": "0.5.1"
  }
 },
 "nbformat": 4,
 "nbformat_minor": 2
}
