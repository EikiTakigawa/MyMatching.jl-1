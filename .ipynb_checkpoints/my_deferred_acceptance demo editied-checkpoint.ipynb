{
 "cells": [
  {
   "cell_type": "markdown",
   "metadata": {
    "collapsed": false
   },
   "source": [
    "金正賢です。\n",
    "MyMatchingのコードは以下より\n",
    "https://github.com/ellenjunghyunkim/MyMatching.jl/blob/master/src/MyMatching.jl\n",
    "my_deferred_acceptanceのデモです。"
   ]
  },
  {
   "cell_type": "code",
   "execution_count": 1,
   "metadata": {
    "collapsed": false
   },
   "outputs": [
    {
     "data": {
      "text/plain": [
       "3-element Array{Array{Int64,1},1}:\n",
       " [1,2]  \n",
       " [1,4]  \n",
       " [3,1,2]"
      ]
     },
     "execution_count": 1,
     "metadata": {},
     "output_type": "execute_result"
    }
   ],
   "source": [
    "m_prefs=[\n",
    "[3,2,1],\n",
    "[2,3,1],\n",
    "[1,3,2],\n",
    "[2,1,3]\n",
    "]\n",
    "\n",
    "f_prefs=[\n",
    "[1,2],\n",
    "[1,4],\n",
    "[3,1,2]\n",
    "]"
   ]
  },
  {
   "cell_type": "code",
   "execution_count": 2,
   "metadata": {
    "collapsed": false
   },
   "outputs": [
    {
     "data": {
      "text/plain": [
       "3-element Array{Int64,1}:\n",
       " 0\n",
       " 0\n",
       " 0"
      ]
     },
     "execution_count": 2,
     "metadata": {},
     "output_type": "execute_result"
    }
   ],
   "source": [
    "#beginning\n",
    "f_matched = zeros(Int, 3)"
   ]
  },
  {
   "cell_type": "code",
   "execution_count": 3,
   "metadata": {
    "collapsed": false
   },
   "outputs": [
    {
     "data": {
      "text/plain": [
       "4-element BitArray{1}:\n",
       " true\n",
       " true\n",
       " true\n",
       " true"
      ]
     },
     "execution_count": 3,
     "metadata": {},
     "output_type": "execute_result"
    }
   ],
   "source": [
    "#who is unmatched?\n",
    "m_unmatched=trues(4)"
   ]
  },
  {
   "cell_type": "code",
   "execution_count": 4,
   "metadata": {
    "collapsed": false
   },
   "outputs": [
    {
     "data": {
      "text/plain": [
       "4-element Array{Int64,1}:\n",
       " 1\n",
       " 1\n",
       " 1\n",
       " 1"
      ]
     },
     "execution_count": 4,
     "metadata": {},
     "output_type": "execute_result"
    }
   ],
   "source": [
    "#選好の一番をみる\n",
    "m_pointers = ones(Int, 4)"
   ]
  },
  {
   "cell_type": "code",
   "execution_count": 5,
   "metadata": {
    "collapsed": true
   },
   "outputs": [],
   "source": [
    "using MyMatching"
   ]
  },
  {
   "cell_type": "code",
   "execution_count": 6,
   "metadata": {
    "collapsed": true
   },
   "outputs": [],
   "source": [
    "m_prefswiki = [[1, 2, 3, 4], [3, 2, 1, 4], [1, 2, 4, 3], [3, 1,  4, 2]]\n",
    "f_prefswiki = [[1, 2, 3, 4], [2, 1, 4, 3], [2, 3, 1, 4], [1, 4, 3, 2]];"
   ]
  },
  {
   "cell_type": "code",
   "execution_count": 7,
   "metadata": {
    "collapsed": false
   },
   "outputs": [
    {
     "name": "stderr",
     "output_type": "stream",
     "text": [
      "\u001b[1m\u001b[34mINFO: Testing MyMatching\n",
      "\u001b[0m"
     ]
    },
    {
     "name": "stdout",
     "output_type": "stream",
     "text": [
      "\u001b[1m\u001b[37mTest Summary:               | \u001b[0m\u001b[1m\u001b[32mPass  \u001b[0m\u001b[1m\u001b[34mTotal\u001b[0m\n",
      "  Testing deferred acceptance | \u001b[1m\u001b[32m  12  \u001b[0m\u001b[1m\u001b[34m   12\u001b[0m\n"
     ]
    },
    {
     "name": "stderr",
     "output_type": "stream",
     "text": [
      "\u001b[1m\u001b[34mINFO: MyMatching tests passed\n",
      "\u001b[0m"
     ]
    }
   ],
   "source": [
    "Pkg.test(\"MyMatching\")"
   ]
  },
  {
   "cell_type": "markdown",
   "metadata": {},
   "source": [
    "自分で作った my_deferred_acceptance を使っててる例を試してみます"
   ]
  },
  {
   "cell_type": "code",
   "execution_count": 8,
   "metadata": {
    "collapsed": true
   },
   "outputs": [],
   "source": [
    "m_prefswiki = [[1, 2, 3, 4], [3, 2, 1, 4], [1, 2, 4, 3], [3, 1,  4, 2]]\n",
    "f_prefswiki = [[1, 2, 3, 4], [2, 1, 4, 3], [2, 3, 1, 4], [1, 4, 3, 2]];"
   ]
  },
  {
   "cell_type": "code",
   "execution_count": 9,
   "metadata": {
    "collapsed": false
   },
   "outputs": [
    {
     "data": {
      "text/plain": [
       "([1,3,2,4],[1,3,2,4])"
      ]
     },
     "execution_count": 9,
     "metadata": {},
     "output_type": "execute_result"
    }
   ],
   "source": [
    "my_deferred_acceptance(m_prefswiki, f_prefswiki)"
   ]
  },
  {
   "cell_type": "code",
   "execution_count": 10,
   "metadata": {
    "collapsed": true
   },
   "outputs": [],
   "source": [
    "m_prefskadai = [[3], [3, 2, 1], [1, 3, 2], [3, 1]]\n",
    "f_prefskadai = [[2, 3], [2, 3, 4, 1], [4, 1, 2]];"
   ]
  },
  {
   "cell_type": "code",
   "execution_count": 11,
   "metadata": {
    "collapsed": false
   },
   "outputs": [
    {
     "data": {
      "text/plain": [
       "([0,2,1,3],[3,2,4])"
      ]
     },
     "execution_count": 11,
     "metadata": {},
     "output_type": "execute_result"
    }
   ],
   "source": [
    "my_deferred_acceptance(m_prefskadai, f_prefskadai)"
   ]
  },
  {
   "cell_type": "code",
   "execution_count": null,
   "metadata": {
    "collapsed": true
   },
   "outputs": [],
   "source": []
  }
 ],
 "metadata": {
  "kernelspec": {
   "display_name": "Julia 0.5.1",
   "language": "julia",
   "name": "julia-0.5"
  },
  "language_info": {
   "file_extension": ".jl",
   "mimetype": "application/julia",
   "name": "julia",
   "version": "0.5.1"
  }
 },
 "nbformat": 4,
 "nbformat_minor": 2
}
